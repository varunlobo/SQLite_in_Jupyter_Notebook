{
 "cells": [
  {
   "cell_type": "markdown",
   "id": "f7d3b785",
   "metadata": {},
   "source": [
    "## In this notebook, I will demonstrate the following:\n",
    "\n",
    "<li> How to create an sqlite3 database in Python using Jupyter Notebook\n",
    "<li> Read CSV data into a DataFrame\n",
    "<li> Save data from DataFrame into a table in the created db.\n",
    "<li> Use SQL commands to manipulate and display data in the db. All in a Juypyter notebook.\n",
    "    "
   ]
  },
  {
   "cell_type": "markdown",
   "id": "4d44697b",
   "metadata": {},
   "source": [
    "## Import essential libraries and read csv data into a Dataframe"
   ]
  },
  {
   "cell_type": "code",
   "execution_count": 1,
   "id": "18543974",
   "metadata": {},
   "outputs": [],
   "source": [
    "import sqlite3\n",
    "import pandas as pd\n",
    "\n",
    "df=pd.read_csv('employee_data.csv')\n"
   ]
  },
  {
   "cell_type": "markdown",
   "id": "510d4b86",
   "metadata": {},
   "source": [
    "## Create an sqlite3 database , let's name it mytable.db"
   ]
  },
  {
   "cell_type": "code",
   "execution_count": 2,
   "id": "a9a8cf4f",
   "metadata": {},
   "outputs": [],
   "source": [
    "conn=sqlite3.connect('mytable.db')"
   ]
  },
  {
   "cell_type": "markdown",
   "id": "edbdd214",
   "metadata": {},
   "source": [
    "## Save Dataframe as a table in the newly created database. We name the table 'employee'"
   ]
  },
  {
   "cell_type": "code",
   "execution_count": 5,
   "id": "b1b2cd48",
   "metadata": {},
   "outputs": [
    {
     "data": {
      "text/plain": [
       "1470"
      ]
     },
     "execution_count": 5,
     "metadata": {},
     "output_type": "execute_result"
    }
   ],
   "source": [
    "df.to_sql(name=\"employee\",con=conn,if_exists='replace',index=False)"
   ]
  },
  {
   "cell_type": "code",
   "execution_count": 6,
   "id": "3e770fe6",
   "metadata": {},
   "outputs": [],
   "source": [
    "conn.commit()"
   ]
  },
  {
   "cell_type": "markdown",
   "id": "1d6785fc",
   "metadata": {},
   "source": [
    "## We're now going to use magic functions to connect to an external sql database"
   ]
  },
  {
   "cell_type": "code",
   "execution_count": 16,
   "id": "842eb926",
   "metadata": {},
   "outputs": [],
   "source": [
    "%%capture\n",
    "%load_ext sql\n",
    "%sql sqlite:///mytable.db"
   ]
  },
  {
   "cell_type": "markdown",
   "id": "6d2f2d06",
   "metadata": {},
   "source": [
    "## Let's preview how our table looks like. "
   ]
  },
  {
   "cell_type": "code",
   "execution_count": 29,
   "id": "398b2bb4",
   "metadata": {},
   "outputs": [
    {
     "name": "stdout",
     "output_type": "stream",
     "text": [
      " * sqlite:///mytable.db\n",
      "Done.\n"
     ]
    },
    {
     "data": {
      "text/html": [
       "<table>\n",
       "    <tr>\n",
       "        <th>Age</th>\n",
       "        <th>Attrition</th>\n",
       "        <th>BusinessTravel</th>\n",
       "        <th>DailyRate</th>\n",
       "        <th>Department</th>\n",
       "        <th>DistanceFromHome</th>\n",
       "        <th>Education</th>\n",
       "        <th>EducationField</th>\n",
       "        <th>EmployeeCount</th>\n",
       "        <th>EmployeeNumber</th>\n",
       "        <th>EnvironmentSatisfaction</th>\n",
       "        <th>Gender</th>\n",
       "        <th>HourlyRate</th>\n",
       "        <th>JobInvolvement</th>\n",
       "        <th>JobLevel</th>\n",
       "        <th>JobRole</th>\n",
       "        <th>JobSatisfaction</th>\n",
       "        <th>MaritalStatus</th>\n",
       "        <th>MonthlyIncome</th>\n",
       "        <th>MonthlyRate</th>\n",
       "        <th>NumCompaniesWorked</th>\n",
       "        <th>Over18</th>\n",
       "        <th>OverTime</th>\n",
       "        <th>PercentSalaryHike</th>\n",
       "        <th>PerformanceRating</th>\n",
       "        <th>RelationshipSatisfaction</th>\n",
       "        <th>StandardHours</th>\n",
       "        <th>StockOptionLevel</th>\n",
       "        <th>TotalWorkingYears</th>\n",
       "        <th>TrainingTimesLastYear</th>\n",
       "        <th>WorkLifeBalance</th>\n",
       "        <th>YearsAtCompany</th>\n",
       "        <th>YearsInCurrentRole</th>\n",
       "        <th>YearsSinceLastPromotion</th>\n",
       "        <th>YearsWithCurrManager</th>\n",
       "    </tr>\n",
       "    <tr>\n",
       "        <td>41</td>\n",
       "        <td>Yes</td>\n",
       "        <td>Travel_Rarely</td>\n",
       "        <td>1102</td>\n",
       "        <td>Sales</td>\n",
       "        <td>1</td>\n",
       "        <td>2</td>\n",
       "        <td>Life Sciences</td>\n",
       "        <td>1</td>\n",
       "        <td>1</td>\n",
       "        <td>2</td>\n",
       "        <td>Female</td>\n",
       "        <td>94</td>\n",
       "        <td>3</td>\n",
       "        <td>2</td>\n",
       "        <td>Sales Executive</td>\n",
       "        <td>4</td>\n",
       "        <td>Single</td>\n",
       "        <td>5993</td>\n",
       "        <td>19479</td>\n",
       "        <td>8</td>\n",
       "        <td>Y</td>\n",
       "        <td>Yes</td>\n",
       "        <td>11</td>\n",
       "        <td>3</td>\n",
       "        <td>1</td>\n",
       "        <td>80</td>\n",
       "        <td>0</td>\n",
       "        <td>8</td>\n",
       "        <td>0</td>\n",
       "        <td>1</td>\n",
       "        <td>6</td>\n",
       "        <td>4</td>\n",
       "        <td>0</td>\n",
       "        <td>5</td>\n",
       "    </tr>\n",
       "    <tr>\n",
       "        <td>49</td>\n",
       "        <td>No</td>\n",
       "        <td>Travel_Frequently</td>\n",
       "        <td>279</td>\n",
       "        <td>Research &amp; Development</td>\n",
       "        <td>8</td>\n",
       "        <td>1</td>\n",
       "        <td>Life Sciences</td>\n",
       "        <td>1</td>\n",
       "        <td>2</td>\n",
       "        <td>3</td>\n",
       "        <td>Male</td>\n",
       "        <td>61</td>\n",
       "        <td>2</td>\n",
       "        <td>2</td>\n",
       "        <td>Research Scientist</td>\n",
       "        <td>2</td>\n",
       "        <td>Married</td>\n",
       "        <td>5130</td>\n",
       "        <td>24907</td>\n",
       "        <td>1</td>\n",
       "        <td>Y</td>\n",
       "        <td>No</td>\n",
       "        <td>23</td>\n",
       "        <td>4</td>\n",
       "        <td>4</td>\n",
       "        <td>80</td>\n",
       "        <td>1</td>\n",
       "        <td>10</td>\n",
       "        <td>3</td>\n",
       "        <td>3</td>\n",
       "        <td>10</td>\n",
       "        <td>7</td>\n",
       "        <td>1</td>\n",
       "        <td>7</td>\n",
       "    </tr>\n",
       "    <tr>\n",
       "        <td>37</td>\n",
       "        <td>Yes</td>\n",
       "        <td>Travel_Rarely</td>\n",
       "        <td>1373</td>\n",
       "        <td>Research &amp; Development</td>\n",
       "        <td>2</td>\n",
       "        <td>2</td>\n",
       "        <td>Other</td>\n",
       "        <td>1</td>\n",
       "        <td>4</td>\n",
       "        <td>4</td>\n",
       "        <td>Male</td>\n",
       "        <td>92</td>\n",
       "        <td>2</td>\n",
       "        <td>1</td>\n",
       "        <td>Laboratory Technician</td>\n",
       "        <td>3</td>\n",
       "        <td>Single</td>\n",
       "        <td>2090</td>\n",
       "        <td>2396</td>\n",
       "        <td>6</td>\n",
       "        <td>Y</td>\n",
       "        <td>Yes</td>\n",
       "        <td>15</td>\n",
       "        <td>3</td>\n",
       "        <td>2</td>\n",
       "        <td>80</td>\n",
       "        <td>0</td>\n",
       "        <td>7</td>\n",
       "        <td>3</td>\n",
       "        <td>3</td>\n",
       "        <td>0</td>\n",
       "        <td>0</td>\n",
       "        <td>0</td>\n",
       "        <td>0</td>\n",
       "    </tr>\n",
       "    <tr>\n",
       "        <td>33</td>\n",
       "        <td>No</td>\n",
       "        <td>Travel_Frequently</td>\n",
       "        <td>1392</td>\n",
       "        <td>Research &amp; Development</td>\n",
       "        <td>3</td>\n",
       "        <td>4</td>\n",
       "        <td>Life Sciences</td>\n",
       "        <td>1</td>\n",
       "        <td>5</td>\n",
       "        <td>4</td>\n",
       "        <td>Female</td>\n",
       "        <td>56</td>\n",
       "        <td>3</td>\n",
       "        <td>1</td>\n",
       "        <td>Research Scientist</td>\n",
       "        <td>3</td>\n",
       "        <td>Married</td>\n",
       "        <td>2909</td>\n",
       "        <td>23159</td>\n",
       "        <td>1</td>\n",
       "        <td>Y</td>\n",
       "        <td>Yes</td>\n",
       "        <td>11</td>\n",
       "        <td>3</td>\n",
       "        <td>3</td>\n",
       "        <td>80</td>\n",
       "        <td>0</td>\n",
       "        <td>8</td>\n",
       "        <td>3</td>\n",
       "        <td>3</td>\n",
       "        <td>8</td>\n",
       "        <td>7</td>\n",
       "        <td>3</td>\n",
       "        <td>0</td>\n",
       "    </tr>\n",
       "    <tr>\n",
       "        <td>27</td>\n",
       "        <td>No</td>\n",
       "        <td>Travel_Rarely</td>\n",
       "        <td>591</td>\n",
       "        <td>Research &amp; Development</td>\n",
       "        <td>2</td>\n",
       "        <td>1</td>\n",
       "        <td>Medical</td>\n",
       "        <td>1</td>\n",
       "        <td>7</td>\n",
       "        <td>1</td>\n",
       "        <td>Male</td>\n",
       "        <td>40</td>\n",
       "        <td>3</td>\n",
       "        <td>1</td>\n",
       "        <td>Laboratory Technician</td>\n",
       "        <td>2</td>\n",
       "        <td>Married</td>\n",
       "        <td>3468</td>\n",
       "        <td>16632</td>\n",
       "        <td>9</td>\n",
       "        <td>Y</td>\n",
       "        <td>No</td>\n",
       "        <td>12</td>\n",
       "        <td>3</td>\n",
       "        <td>4</td>\n",
       "        <td>80</td>\n",
       "        <td>1</td>\n",
       "        <td>6</td>\n",
       "        <td>3</td>\n",
       "        <td>3</td>\n",
       "        <td>2</td>\n",
       "        <td>2</td>\n",
       "        <td>2</td>\n",
       "        <td>2</td>\n",
       "    </tr>\n",
       "</table>"
      ],
      "text/plain": [
       "[(41, 'Yes', 'Travel_Rarely', 1102, 'Sales', 1, 2, 'Life Sciences', 1, 1, 2, 'Female', 94, 3, 2, 'Sales Executive', 4, 'Single', 5993, 19479, 8, 'Y', 'Yes', 11, 3, 1, 80, 0, 8, 0, 1, 6, 4, 0, 5),\n",
       " (49, 'No', 'Travel_Frequently', 279, 'Research & Development', 8, 1, 'Life Sciences', 1, 2, 3, 'Male', 61, 2, 2, 'Research Scientist', 2, 'Married', 5130, 24907, 1, 'Y', 'No', 23, 4, 4, 80, 1, 10, 3, 3, 10, 7, 1, 7),\n",
       " (37, 'Yes', 'Travel_Rarely', 1373, 'Research & Development', 2, 2, 'Other', 1, 4, 4, 'Male', 92, 2, 1, 'Laboratory Technician', 3, 'Single', 2090, 2396, 6, 'Y', 'Yes', 15, 3, 2, 80, 0, 7, 3, 3, 0, 0, 0, 0),\n",
       " (33, 'No', 'Travel_Frequently', 1392, 'Research & Development', 3, 4, 'Life Sciences', 1, 5, 4, 'Female', 56, 3, 1, 'Research Scientist', 3, 'Married', 2909, 23159, 1, 'Y', 'Yes', 11, 3, 3, 80, 0, 8, 3, 3, 8, 7, 3, 0),\n",
       " (27, 'No', 'Travel_Rarely', 591, 'Research & Development', 2, 1, 'Medical', 1, 7, 1, 'Male', 40, 3, 1, 'Laboratory Technician', 2, 'Married', 3468, 16632, 9, 'Y', 'No', 12, 3, 4, 80, 1, 6, 3, 3, 2, 2, 2, 2)]"
      ]
     },
     "execution_count": 29,
     "metadata": {},
     "output_type": "execute_result"
    }
   ],
   "source": [
    "%%sql\n",
    "\n",
    "select *\n",
    "from employee\n",
    "LIMIT 5\n"
   ]
  },
  {
   "cell_type": "markdown",
   "id": "0622dd6e",
   "metadata": {},
   "source": [
    "## We are now able to use SQL queries to answer any questions from the data that was loaded into the database we just created. All of this from our notebook."
   ]
  },
  {
   "cell_type": "markdown",
   "id": "4dea6755",
   "metadata": {},
   "source": [
    "### Quesion 1: What education fields are included in the data"
   ]
  },
  {
   "cell_type": "code",
   "execution_count": 30,
   "id": "d7884175",
   "metadata": {},
   "outputs": [
    {
     "name": "stdout",
     "output_type": "stream",
     "text": [
      " * sqlite:///mytable.db\n",
      "Done.\n"
     ]
    },
    {
     "data": {
      "text/html": [
       "<table>\n",
       "    <tr>\n",
       "        <th>EducationField</th>\n",
       "    </tr>\n",
       "    <tr>\n",
       "        <td>Life Sciences</td>\n",
       "    </tr>\n",
       "    <tr>\n",
       "        <td>Other</td>\n",
       "    </tr>\n",
       "    <tr>\n",
       "        <td>Medical</td>\n",
       "    </tr>\n",
       "    <tr>\n",
       "        <td>Marketing</td>\n",
       "    </tr>\n",
       "    <tr>\n",
       "        <td>Technical Degree</td>\n",
       "    </tr>\n",
       "    <tr>\n",
       "        <td>Human Resources</td>\n",
       "    </tr>\n",
       "</table>"
      ],
      "text/plain": [
       "[('Life Sciences',),\n",
       " ('Other',),\n",
       " ('Medical',),\n",
       " ('Marketing',),\n",
       " ('Technical Degree',),\n",
       " ('Human Resources',)]"
      ]
     },
     "execution_count": 30,
     "metadata": {},
     "output_type": "execute_result"
    }
   ],
   "source": [
    "%%sql\n",
    "\n",
    "select distinct(EducationField)\n",
    "from employee"
   ]
  },
  {
   "cell_type": "markdown",
   "id": "f3bc6ce4",
   "metadata": {},
   "source": [
    "### Question 2: Plot the avg age of employees by education"
   ]
  },
  {
   "cell_type": "code",
   "execution_count": 107,
   "id": "cd47c7d2",
   "metadata": {},
   "outputs": [
    {
     "data": {
      "text/plain": [
       "<Figure size 864x576 with 0 Axes>"
      ]
     },
     "execution_count": 107,
     "metadata": {},
     "output_type": "execute_result"
    },
    {
     "data": {
      "text/plain": [
       "<Figure size 864x576 with 0 Axes>"
      ]
     },
     "metadata": {},
     "output_type": "display_data"
    }
   ],
   "source": [
    "import matplotlib.pyplot as plt\n",
    "import seaborn as sns\n"
   ]
  },
  {
   "cell_type": "code",
   "execution_count": 53,
   "id": "4febd2de",
   "metadata": {},
   "outputs": [],
   "source": [
    "dataf=pd.read_sql( '''\n",
    "\n",
    "select avg(Age) as Avg_Age, EducationField\n",
    "from employee\n",
    "Group by EducationField\n",
    "Order by Avg_Age\n",
    "\n",
    "''',conn)"
   ]
  },
  {
   "cell_type": "code",
   "execution_count": 55,
   "id": "16ef1c27",
   "metadata": {},
   "outputs": [
    {
     "data": {
      "text/html": [
       "<div>\n",
       "<style scoped>\n",
       "    .dataframe tbody tr th:only-of-type {\n",
       "        vertical-align: middle;\n",
       "    }\n",
       "\n",
       "    .dataframe tbody tr th {\n",
       "        vertical-align: top;\n",
       "    }\n",
       "\n",
       "    .dataframe thead th {\n",
       "        text-align: right;\n",
       "    }\n",
       "</style>\n",
       "<table border=\"1\" class=\"dataframe\">\n",
       "  <thead>\n",
       "    <tr style=\"text-align: right;\">\n",
       "      <th></th>\n",
       "      <th>Avg_Age</th>\n",
       "      <th>EducationField</th>\n",
       "    </tr>\n",
       "  </thead>\n",
       "  <tbody>\n",
       "    <tr>\n",
       "      <th>0</th>\n",
       "      <td>35.365854</td>\n",
       "      <td>Other</td>\n",
       "    </tr>\n",
       "    <tr>\n",
       "      <th>1</th>\n",
       "      <td>36.121212</td>\n",
       "      <td>Technical Degree</td>\n",
       "    </tr>\n",
       "    <tr>\n",
       "      <th>2</th>\n",
       "      <td>36.838362</td>\n",
       "      <td>Medical</td>\n",
       "    </tr>\n",
       "    <tr>\n",
       "      <th>3</th>\n",
       "      <td>37.037037</td>\n",
       "      <td>Human Resources</td>\n",
       "    </tr>\n",
       "    <tr>\n",
       "      <th>4</th>\n",
       "      <td>37.107261</td>\n",
       "      <td>Life Sciences</td>\n",
       "    </tr>\n",
       "  </tbody>\n",
       "</table>\n",
       "</div>"
      ],
      "text/plain": [
       "     Avg_Age    EducationField\n",
       "0  35.365854             Other\n",
       "1  36.121212  Technical Degree\n",
       "2  36.838362           Medical\n",
       "3  37.037037   Human Resources\n",
       "4  37.107261     Life Sciences"
      ]
     },
     "execution_count": 55,
     "metadata": {},
     "output_type": "execute_result"
    }
   ],
   "source": [
    "dataf.head()"
   ]
  },
  {
   "cell_type": "code",
   "execution_count": 109,
   "id": "bf7f4bf9",
   "metadata": {},
   "outputs": [
    {
     "data": {
      "text/plain": [
       "<AxesSubplot:xlabel='Avg_Age', ylabel='EducationField'>"
      ]
     },
     "execution_count": 109,
     "metadata": {},
     "output_type": "execute_result"
    },
    {
     "data": {
      "image/png": "[encoded data removed]",
      "text/plain": [
       "<Figure size 864x576 with 1 Axes>"
      ]
     },
     "metadata": {
      "needs_background": "light"
     },
     "output_type": "display_data"
    }
   ],
   "source": [
    "plt.figure(figsize=(12,8))\n",
    "sns.barplot(x=dataf['Avg_Age'], y=dataf['EducationField'])"
   ]
  },
  {
   "cell_type": "markdown",
   "id": "4c91bcf8",
   "metadata": {},
   "source": [
    "### Question 3: Which gender/sex saw the highest attrition"
   ]
  },
  {
   "cell_type": "code",
   "execution_count": 71,
   "id": "d046557b",
   "metadata": {},
   "outputs": [
    {
     "name": "stdout",
     "output_type": "stream",
     "text": [
      " * sqlite:///mytable.db\n",
      "Done.\n"
     ]
    },
    {
     "data": {
      "text/html": [
       "<table>\n",
       "    <tr>\n",
       "        <th>Attrition</th>\n",
       "        <th>Gender</th>\n",
       "    </tr>\n",
       "    <tr>\n",
       "        <td>87</td>\n",
       "        <td>Female</td>\n",
       "    </tr>\n",
       "    <tr>\n",
       "        <td>150</td>\n",
       "        <td>Male</td>\n",
       "    </tr>\n",
       "</table>"
      ],
      "text/plain": [
       "[(87, 'Female'), (150, 'Male')]"
      ]
     },
     "execution_count": 71,
     "metadata": {},
     "output_type": "execute_result"
    }
   ],
   "source": [
    "%%sql\n",
    "\n",
    "select count(*) as Attrition, Gender\n",
    "from employee\n",
    "Where Attrition = 'Yes'\n",
    "Group by Gender\n"
   ]
  },
  {
   "cell_type": "markdown",
   "id": "f005e3e0",
   "metadata": {},
   "source": [
    "### Question 4: Is distance from home a factor influencing attrition"
   ]
  },
  {
   "cell_type": "code",
   "execution_count": 81,
   "id": "4f9dbfac",
   "metadata": {},
   "outputs": [
    {
     "data": {
      "text/html": [
       "<div>\n",
       "<style scoped>\n",
       "    .dataframe tbody tr th:only-of-type {\n",
       "        vertical-align: middle;\n",
       "    }\n",
       "\n",
       "    .dataframe tbody tr th {\n",
       "        vertical-align: top;\n",
       "    }\n",
       "\n",
       "    .dataframe thead th {\n",
       "        text-align: right;\n",
       "    }\n",
       "</style>\n",
       "<table border=\"1\" class=\"dataframe\">\n",
       "  <thead>\n",
       "    <tr style=\"text-align: right;\">\n",
       "      <th></th>\n",
       "      <th>DistanceFromHome</th>\n",
       "      <th>HourlyRate</th>\n",
       "      <th>Attrition</th>\n",
       "      <th>MaritalStatus</th>\n",
       "    </tr>\n",
       "  </thead>\n",
       "  <tbody>\n",
       "    <tr>\n",
       "      <th>0</th>\n",
       "      <td>1</td>\n",
       "      <td>94</td>\n",
       "      <td>Yes</td>\n",
       "      <td>Single</td>\n",
       "    </tr>\n",
       "    <tr>\n",
       "      <th>1</th>\n",
       "      <td>8</td>\n",
       "      <td>61</td>\n",
       "      <td>No</td>\n",
       "      <td>Married</td>\n",
       "    </tr>\n",
       "    <tr>\n",
       "      <th>2</th>\n",
       "      <td>2</td>\n",
       "      <td>92</td>\n",
       "      <td>Yes</td>\n",
       "      <td>Single</td>\n",
       "    </tr>\n",
       "    <tr>\n",
       "      <th>3</th>\n",
       "      <td>3</td>\n",
       "      <td>56</td>\n",
       "      <td>No</td>\n",
       "      <td>Married</td>\n",
       "    </tr>\n",
       "    <tr>\n",
       "      <th>4</th>\n",
       "      <td>2</td>\n",
       "      <td>40</td>\n",
       "      <td>No</td>\n",
       "      <td>Married</td>\n",
       "    </tr>\n",
       "    <tr>\n",
       "      <th>5</th>\n",
       "      <td>2</td>\n",
       "      <td>79</td>\n",
       "      <td>No</td>\n",
       "      <td>Single</td>\n",
       "    </tr>\n",
       "    <tr>\n",
       "      <th>6</th>\n",
       "      <td>3</td>\n",
       "      <td>81</td>\n",
       "      <td>No</td>\n",
       "      <td>Married</td>\n",
       "    </tr>\n",
       "    <tr>\n",
       "      <th>7</th>\n",
       "      <td>24</td>\n",
       "      <td>67</td>\n",
       "      <td>No</td>\n",
       "      <td>Divorced</td>\n",
       "    </tr>\n",
       "    <tr>\n",
       "      <th>8</th>\n",
       "      <td>23</td>\n",
       "      <td>44</td>\n",
       "      <td>No</td>\n",
       "      <td>Single</td>\n",
       "    </tr>\n",
       "    <tr>\n",
       "      <th>9</th>\n",
       "      <td>27</td>\n",
       "      <td>94</td>\n",
       "      <td>No</td>\n",
       "      <td>Married</td>\n",
       "    </tr>\n",
       "  </tbody>\n",
       "</table>\n",
       "</div>"
      ],
      "text/plain": [
       "   DistanceFromHome  HourlyRate Attrition MaritalStatus\n",
       "0                 1          94       Yes        Single\n",
       "1                 8          61        No       Married\n",
       "2                 2          92       Yes        Single\n",
       "3                 3          56        No       Married\n",
       "4                 2          40        No       Married\n",
       "5                 2          79        No        Single\n",
       "6                 3          81        No       Married\n",
       "7                24          67        No      Divorced\n",
       "8                23          44        No        Single\n",
       "9                27          94        No       Married"
      ]
     },
     "execution_count": 81,
     "metadata": {},
     "output_type": "execute_result"
    }
   ],
   "source": [
    "\n",
    "dataf1=pd.read_sql( '''\n",
    "\n",
    "select DistanceFromHome, HourlyRate, Attrition, MaritalStatus\n",
    "from employee\n",
    "\n",
    "''',conn)\n",
    "\n",
    "dataf1.head(10)"
   ]
  },
  {
   "cell_type": "code",
   "execution_count": 106,
   "id": "f2301c00",
   "metadata": {},
   "outputs": [
    {
     "data": {
      "image/png": "[encoded data removed]",
      "text/plain": [
       "<Figure size 864x576 with 1 Axes>"
      ]
     },
     "metadata": {
      "needs_background": "light"
     },
     "output_type": "display_data"
    }
   ],
   "source": [
    "plt.figure(figsize=(12,8))\n",
    "ax = sns.boxplot(x='Attrition', y='DistanceFromHome',data=dataf1, hue='MaritalStatus',showmeans=True ,meanprops={\"marker\":\"o\",\n",
    "                       \"markerfacecolor\":\"black\", \n",
    "                       \"markeredgecolor\":\"black\",\n",
    "                      \"markersize\":\"7\"})\n",
    "\n",
    "sns.move_legend(ax, \"upper left\",bbox_to_anchor=(1, 1))"
   ]
  },
  {
   "cell_type": "markdown",
   "id": "d9e9d5df",
   "metadata": {},
   "source": [
    "## By using jupyter notebooks to interact and manipulate data within a database allows us to combine the power of python, along with libraries like seaborn for effective data handling and visualization."
   ]
  },
  {
   "cell_type": "code",
   "execution_count": null,
   "id": "24d5f56a",
   "metadata": {},
   "outputs": [],
   "source": []
  }
 ],
 "metadata": {
  "kernelspec": {
   "display_name": "Python 3 (ipykernel)",
   "language": "python",
   "name": "python3"
  },
  "language_info": {
   "codemirror_mode": {
    "name": "ipython",
    "version": 3
   },
   "file_extension": ".py",
   "mimetype": "text/x-python",
   "name": "python",
   "nbconvert_exporter": "python",
   "pygments_lexer": "ipython3",
   "version": "3.9.12"
  }
 },
 "nbformat": 4,
 "nbformat_minor": 5
}
